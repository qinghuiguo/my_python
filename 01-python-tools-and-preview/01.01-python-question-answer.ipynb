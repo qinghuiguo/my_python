{
 "cells": [
  {
   "cell_type": "markdown",
   "metadata": {},
   "source": [
    "[TOC]\n",
    "\n",
    "## 为什么选择python？\n",
    "\n",
    "\n",
    "\n",
    "- **1.代码质量**\n",
    "- **2.开发者效率**\n",
    "- **3.程序可移植性**\n",
    "- **4.标准库支持**\n",
    "- **5.组件集成**\n",
    "- **6.享受乐趣**\n",
    "\n",
    "## pyhon是脚本语言吗？\n",
    "\n",
    "\n",
    "python是一种多用途的编程语言，时常扮演脚本语言的角色。一般来说，python可以定义为面向对象的脚本语言：这个定义把面向对象的支持和全面的面向脚本语言的角色融合在一起。事实上，人们往往以\"脚本\"而不是程序描述Python的代码文件。\n",
    "\n",
    "- **1.shell工具**\n",
    "- **2.控制语言**\n",
    "- **3.使用便捷**\n",
    "\n",
    "## Python的缺点是什么？\n",
    "Python的缺点是他的性能：他不像C和C++这类常规的编程语言运行的那么快。另一方面，他对于绝大多数应用已经足够快乐，并且典型的Python代码运行起来接近C，因为在Python的解释器中调用链接了C代码。如果速度要求很苛刻的话，应用的数值处理部分可以采用编译好的扩展以满足应用要求。\n",
    "\n",
    "\n",
    "## 如今谁在使用Python？\n",
    "## 使用Python可以做些什么？\n",
    "- **1.系统编程**\n",
    "- **2.用户图形接口**\n",
    "- **3.Internet 脚本**\n",
    "- **4.组件集成**\n",
    "- **5.数据库编程**\n",
    "- **6.快速原型**\n",
    "- **7.数值计算和科学计算编程**\n",
    "- **8.游戏、编程、人工智能、XML、机器人等。**\n",
    "\n",
    "## 如何获取Python支持？\n",
    "## Python有哪些技术上的优点。\n",
    "- **1.面向对象**\n",
    "- **2.免费**\n",
    "- **3.可移植**\n",
    "- **4.功能强大**\n",
    "    - 1.动态类型\n",
    "    - 2.自动内存管理\n",
    "    - 3.大型程序支持\n",
    "    - 4.内置对象类型\n",
    "    - 5.内置工具\n",
    "    - 6.库工具\n",
    "    - 7.第三方工具\n",
    "    \n",
    "  除了这一系列的Python工具外，Python保持了相当简洁的语法和设计。结合着一切得到的就是一个具有脚本语言所有可能性的强大编程工具。\n",
    "\n",
    "- **5.可混合**\n",
    "- **6.简单易用**\n",
    "- **7.简单易学**\n",
    "\n",
    "## Python和其他语言比较起来怎么样？\n",
    "\n",
    "**简而言之吹牛的时刻到了**\n",
    "\n",
    "- 1.比Tcl强大。Python支持大规模编程，使其适宜于开发大型程序。\n",
    "- 2.有比Perl更简洁的语法和更简单的设计，这使得Python具有可读性、更易于维护，有助于减少程序bug。\n",
    "- 3.比java简单，更易使用。Python是一种脚本语言，java从C++这样的系统语言中继承了许多语法和复杂性。\n",
    "- 4.比C++简单、更易使用，但通常也不与C++竞争。因为Python作为脚本语言，常常扮演多种不同的角色。\n",
    "- 5.比Visual Basic 更强大也更具备跨平台特性。由于Python是开源的，也就意味着它不可能被某一个公司掌握。\n",
    "\n",
    "\n",
    "\n"
   ]
  },
  {
   "cell_type": "code",
   "execution_count": 9,
   "metadata": {},
   "outputs": [],
   "source": [
    "import this"
   ]
  },
  {
   "cell_type": "markdown",
   "metadata": {},
   "source": [
    "这首诗反映了**Python**的设计哲学——**Python**是一种追求优雅，明确，简单的编程语言，但事实上，产生这首诗的代码并没有写的那么简单易懂："
   ]
  },
  {
   "cell_type": "code",
   "execution_count": 7,
   "metadata": {},
   "outputs": [
    {
     "ename": "SyntaxError",
     "evalue": "invalid syntax (<ipython-input-7-d39a5345ca03>, line 28)",
     "output_type": "error",
     "traceback": [
      "\u001b[0;36m  File \u001b[0;32m\"<ipython-input-7-d39a5345ca03>\"\u001b[0;36m, line \u001b[0;32m28\u001b[0m\n\u001b[0;31m    print \"\".join([d.get(c, c) for c in s])\u001b[0m\n\u001b[0m           ^\u001b[0m\n\u001b[0;31mSyntaxError\u001b[0m\u001b[0;31m:\u001b[0m invalid syntax\n"
     ]
    }
   ],
   "source": [
    "s = \"\"\"Gur Mra bs Clguba, ol Gvz Crgref\n",
    "\n",
    "Ornhgvshy vf orggre guna htyl.\n",
    "Rkcyvpvg vf orggre guna vzcyvpvg.\n",
    "Fvzcyr vf orggre guna pbzcyrk.\n",
    "Pbzcyrk vf orggre guna pbzcyvpngrq.\n",
    "Syng vf orggre guna arfgrq.\n",
    "Fcnefr vf orggre guna qrafr.\n",
    "Ernqnovyvgl pbhagf.\n",
    "Fcrpvny pnfrf nera'g fcrpvny rabhtu gb oernx gur ehyrf.\n",
    "Nygubhtu cenpgvpnyvgl orngf chevgl.\n",
    "Reebef fubhyq arire cnff fvyragyl.\n",
    "Hayrff rkcyvpvgyl fvyraprq.\n",
    "Va gur snpr bs nzovthvgl, ershfr gur grzcgngvba gb thrff.\n",
    "Gurer fubhyq or bar-- naq cersrenoyl bayl bar --boivbhf jnl gb qb vg.\n",
    "Nygubhtu gung jnl znl abg or boivbhf ng svefg hayrff lbh'er Qhgpu.\n",
    "Abj vf orggre guna arire.\n",
    "Nygubhtu arire vf bsgra orggre guna *evtug* abj.\n",
    "Vs gur vzcyrzragngvba vf uneq gb rkcynva, vg'f n onq vqrn.\n",
    "Vs gur vzcyrzragngvba vf rnfl gb rkcynva, vg znl or n tbbq vqrn.\n",
    "Anzrfcnprf ner bar ubaxvat terng vqrn -- yrg'f qb zber bs gubfr!\"\"\"\n",
    "\n",
    "d = {}\n",
    "for c in (65, 97):\n",
    "    for i in range(26):\n",
    "        d[chr(i+c)] = chr((i+13) % 26 + c)\n",
    "\n",
    "print \"\".join([d.get(c, c) for c in s])"
   ]
  },
  {
   "cell_type": "markdown",
   "metadata": {},
   "source": [
    "> Life is short. Use Python."
   ]
  },
  {
   "cell_type": "code",
   "execution_count": null,
   "metadata": {},
   "outputs": [],
   "source": []
  }
 ],
 "metadata": {
  "kernelspec": {
   "display_name": "Python 3",
   "language": "python",
   "name": "python3"
  },
  "language_info": {
   "codemirror_mode": {
    "name": "ipython",
    "version": 3
   },
   "file_extension": ".py",
   "mimetype": "text/x-python",
   "name": "python",
   "nbconvert_exporter": "python",
   "pygments_lexer": "ipython3",
   "version": "3.7.0"
  }
 },
 "nbformat": 4,
 "nbformat_minor": 2
}
