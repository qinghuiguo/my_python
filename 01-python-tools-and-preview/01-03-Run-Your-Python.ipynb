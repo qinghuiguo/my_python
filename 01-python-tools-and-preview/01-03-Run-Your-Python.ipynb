{
 "cells": [
  {
   "cell_type": "markdown",
   "metadata": {},
   "source": [
    "# 如何运行程序\n",
    "\n",
    "\n",
    "## 交互式模式下编写代码\n",
    "\n",
    "- 交互的运行代码\n",
    "运行以下代码，和python解释器中一样。\n"
   ]
  },
  {
   "cell_type": "code",
   "execution_count": 10,
   "metadata": {
    "scrolled": true
   },
   "outputs": [
    {
     "name": "stdout",
     "output_type": "stream",
     "text": [
      "Hello word\n",
      "256\n",
      "okay\n"
     ]
    },
    {
     "data": {
      "text/plain": [
       "'okay'"
      ]
     },
     "execution_count": 10,
     "metadata": {},
     "output_type": "execute_result"
    }
   ],
   "source": [
    "print ('Hello word')\n",
    "print (2**8)\n",
    "lumberjack= 'okay'\n",
    "print(lumberjack)\n",
    "lumberjack"
   ]
  },
  {
   "cell_type": "markdown",
   "metadata": {},
   "source": [
    "- 为什么使用交互提示模式\n",
    "> 交互提示模式根据用户的输入运行代码并相应结果，但是他不会吧代码保存到一个文件中，尽管这意味着你不能在交互式会话中编写大量代码，但交互式提示认识体验语言和测试编写中的程序文件的地方。\n",
    "\n",
    "**实验**"
   ]
  },
  {
   "cell_type": "code",
   "execution_count": 12,
   "metadata": {
    "scrolled": false
   },
   "outputs": [
    {
     "data": {
      "text/plain": [
       "'spam!spam!spam!spam!spam!spam!spam!spam!'"
      ]
     },
     "execution_count": 12,
     "metadata": {},
     "output_type": "execute_result"
    }
   ],
   "source": [
    "'spam!'*8"
   ]
  },
  {
   "cell_type": "code",
   "execution_count": 14,
   "metadata": {
    "collapsed": true
   },
   "outputs": [
    {
     "data": {
      "text/plain": [
       "'/mycode/my_python/01-python-tools-and-preview'"
      ]
     },
     "execution_count": 14,
     "metadata": {},
     "output_type": "execute_result"
    }
   ],
   "source": [
    "import os \n",
    "os.getcwd()"
   ]
  },
  {
   "cell_type": "markdown",
   "metadata": {},
   "source": [
    "- 使用交互提示模式\n",
    "    - 只能够输入Python命令。\n",
    "    - 文件中打印语序是必须的。\n",
    "    - 在交互式模式下不需要缩进（待确认）\n",
    "    - 留意提示符的变换和符合语句\n",
    "    - 在交互式模式中用一个空行结束复合语句。\n",
    "    - 交互提示模式一次只运行一条语句。\n",
    "- 输入多行语句\n"
   ]
  },
  {
   "cell_type": "code",
   "execution_count": 18,
   "metadata": {},
   "outputs": [
    {
     "name": "stdout",
     "output_type": "stream",
     "text": [
      "s\n",
      "p\n",
      "a\n",
      "m\n",
      "m\n"
     ]
    }
   ],
   "source": [
    "for i in 'spam':\n",
    "    print (i)\n",
    "print(i)"
   ]
  },
  {
   "cell_type": "markdown",
   "metadata": {},
   "source": [
    "## 系统命令行和文件\n",
    "- 第一段脚本\n",
    "> - 导入一个Python模块，以获取系统平台名称。\n",
    "> - 运行三个print 函数调用，以显示脚本结果。\n",
    "> - 使用一个名为X的变量，在创建的时候对其赋值，保存一个字符串对象。\n",
    "> - 应用我们将从下一章学习的各种对象操作。"
   ]
  },
  {
   "cell_type": "code",
   "execution_count": 21,
   "metadata": {},
   "outputs": [
    {
     "name": "stdout",
     "output_type": "stream",
     "text": [
      "linux\n",
      "1267650600228229401496703205376\n",
      "x\n",
      "ce\n"
     ]
    },
    {
     "data": {
      "text/plain": [
       "'ce'"
      ]
     },
     "execution_count": 21,
     "metadata": {},
     "output_type": "execute_result"
    }
   ],
   "source": [
    "import sys\n",
    "print (sys.platform)\n",
    "print(2**100)\n",
    "x='spam'\n",
    "print('x')\n",
    "input()"
   ]
  },
  {
   "cell_type": "markdown",
   "metadata": {},
   "source": [
    "- 使用命令行运行文件\n",
    "\n",
    "- 使用命令行和文件\n",
    "    - 注意windows的扩展名。\n",
    "    - 在系统模式下使用文件扩展名，但是在导入时别使用文件扩展名。\n",
    "    - 在文件中使用print语句。\n",
    "- unix 可执行脚本（#！）\n",
    "- unix env查找技巧\n",
    "## 点击文件图标\n",
    "- 由于执行会一闪而过，建议使用input() ,这样执行完了会弹出黑色的dos终端作为文件输入输出。\n",
    "- 即使使用了input技巧，点击文件图标仍有风险，因为一旦有错误，可能看不到错误信息。\n",
    "\n",
    "## 模块的导入和重载\n",
    "\n",
    "\n",
    "## 使用exec运行模块文件\n",
    "\n",
    "## IDLE用户界面\n",
    "\n",
    "## 其他的IDLE\n",
    "\n",
    "## 其他启动选项\n",
    "\n",
    "## 我应该选用哪种\n",
    "\n",
    "## 本章小结\n",
    "\n",
    "在本章我们学习了启动Python程序的一般方法：通过交互式地输入代码、通过系统命令行运行保存在文件中的代码、文件图标点击、模块导入、exec调用以及IDLE这样的IDE GUI。本章介绍了许多实际中的入门细节。本章的目标就是给你体用足够的信息，让你能够开工，完成我们将要开始的本书的下一部分的代码。那里，我们将以Python的核心数据类型开始。"
   ]
  }
 ],
 "metadata": {
  "celltoolbar": "Raw Cell Format",
  "kernelspec": {
   "display_name": "Python 3",
   "language": "python",
   "name": "python3"
  },
  "language_info": {
   "codemirror_mode": {
    "name": "ipython",
    "version": 3
   },
   "file_extension": ".py",
   "mimetype": "text/x-python",
   "name": "python",
   "nbconvert_exporter": "python",
   "pygments_lexer": "ipython3",
   "version": "3.7.3"
  },
  "toc": {
   "base_numbering": 1,
   "nav_menu": {},
   "number_sections": true,
   "sideBar": true,
   "skip_h1_title": false,
   "title_cell": "Table of Contents",
   "title_sidebar": "Contents",
   "toc_cell": false,
   "toc_position": {},
   "toc_section_display": true,
   "toc_window_display": false
  }
 },
 "nbformat": 4,
 "nbformat_minor": 2
}
