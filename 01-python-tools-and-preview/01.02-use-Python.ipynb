{
 "cells": [
  {
   "cell_type": "markdown",
   "metadata": {},
   "source": [
    "# Python如何运行程序\n",
    "\n",
    "本章和下一章将给出程序执行的简要说明：应该如何开始编写代码以及Python如何运行代码。这一张我们学习Python的解释器。第三章我们介绍如何编写程序以及如何运行。\n",
    "\n",
    "\n",
    "## Python解释器简介\n",
    "\n",
    "Python解释器是运行Python程序的程序。\n",
    "\n",
    "\n",
    "## 程序执行\n",
    "\n",
    "- 程序员视角\n",
    "- Python视角\n",
    "\n",
    "\n",
    "\n",
    "## 执行模块变体\n",
    "- Python实现的替代者\n",
    "- 执行优化的工具\n",
    "- 冻结二进制文件\n",
    "- 其他执行选项\n",
    "- 未来的可能性\n",
    "\n",
    "> CPython 是Python语言的标准实现。JPython和ironPython分别是Python程序的java和.net实现；他们都是Python编译器的替代实现。\n",
    "\n",
    "## 本章小结\n",
    "\n",
    "本章介绍了Python的执行模块（Python如何运行程序）并探索了这个模块的一些变体（及时编译器和一些工具）。尽管编写Python脚本并没有必要了解Python的实现，通过本章介绍的主题获得的知识会帮助从一开始编码时就真正理解程序是如何运行的。\n"
   ]
  }
 ],
 "metadata": {
  "kernelspec": {
   "display_name": "Python 3",
   "language": "python",
   "name": "python3"
  },
  "language_info": {
   "codemirror_mode": {
    "name": "ipython",
    "version": 3
   },
   "file_extension": ".py",
   "mimetype": "text/x-python",
   "name": "python",
   "nbconvert_exporter": "python",
   "pygments_lexer": "ipython3",
   "version": "3.7.3"
  },
  "toc": {
   "base_numbering": 1,
   "nav_menu": {},
   "number_sections": true,
   "sideBar": true,
   "skip_h1_title": false,
   "title_cell": "Table of Contents",
   "title_sidebar": "Contents",
   "toc_cell": false,
   "toc_position": {},
   "toc_section_display": true,
   "toc_window_display": true
  }
 },
 "nbformat": 4,
 "nbformat_minor": 2
}
