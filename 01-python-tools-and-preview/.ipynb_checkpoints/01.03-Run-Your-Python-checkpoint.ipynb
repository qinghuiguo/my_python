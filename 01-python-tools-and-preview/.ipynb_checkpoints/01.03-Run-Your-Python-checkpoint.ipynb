{
 "cells": [
  {
   "cell_type": "markdown",
   "metadata": {},
   "source": [
    "# 如何运行程序\n",
    "\n",
    "\n",
    "## 交互式模式下编写代码\n",
    "\n",
    "- 交互的运行代码\n",
    "运行以下代码，和python解释器中一样。\n"
   ]
  },
  {
   "cell_type": "code",
   "execution_count": null,
   "metadata": {
    "scrolled": true
   },
   "outputs": [],
   "source": [
    "print ('Hello word')\n",
    "print (2**8)\n",
    "lumberjack= 'okay'\n",
    "print(lumberjack)\n",
    "lumberjack"
   ]
  },
  {
   "cell_type": "markdown",
   "metadata": {},
   "source": [
    "- 为什么使用交互提示模式\n",
    "> 交互提示模式根据用户的输入运行代码并相应结果，但是他不会吧代码保存到一个文件中，尽管这意味着你不能在交互式会话中编写大量代码，但交互式提示认识体验语言和测试编写中的程序文件的地方。\n",
    "\n",
    "**实验**"
   ]
  },
  {
   "cell_type": "code",
   "execution_count": null,
   "metadata": {
    "scrolled": false
   },
   "outputs": [],
   "source": [
    "'spam!'*8"
   ]
  },
  {
   "cell_type": "code",
   "execution_count": null,
   "metadata": {},
   "outputs": [],
   "source": [
    "import os \n",
    "os.getcwd()"
   ]
  },
  {
   "cell_type": "markdown",
   "metadata": {},
   "source": [
    "- 使用交互提示模式\n",
    "    - 只能够输入Python命令。\n",
    "    - 文件中打印语序是必须的。\n",
    "    - 在交互式模式下不需要缩进（待确认）\n",
    "    - 留意提示符的变换和符合语句\n",
    "    - 在交互式模式中用一个空行结束复合语句。\n",
    "    - 交互提示模式一次只运行一条语句。\n",
    "- 输入多行语句\n"
   ]
  },
  {
   "cell_type": "code",
   "execution_count": null,
   "metadata": {},
   "outputs": [],
   "source": [
    "for i in 'spam':\n",
    "    print (i)\n",
    "print(i)"
   ]
  },
  {
   "cell_type": "markdown",
   "metadata": {},
   "source": [
    "## 系统命令行和文件\n",
    "- 第一段脚本\n",
    "> - 导入一个Python模块，以获取系统平台名称。\n",
    "> - 运行三个print 函数调用，以显示脚本结果。\n",
    "> - 使用一个名为X的变量，在创建的时候对其赋值，保存一个字符串对象。\n",
    "> - 应用我们将从下一章学习的各种对象操作。"
   ]
  },
  {
   "cell_type": "code",
   "execution_count": null,
   "metadata": {},
   "outputs": [],
   "source": [
    "import sys\n",
    "print (sys.platform)\n",
    "print(2**100)\n",
    "x='spam'\n",
    "print('x')\n",
    "input()"
   ]
  },
  {
   "cell_type": "markdown",
   "metadata": {},
   "source": [
    "- 使用命令行运行文件\n",
    "\n",
    "- 使用命令行和文件\n",
    "    - 注意windows的扩展名。\n",
    "    - 在系统模式下使用文件扩展名，但是在导入时别使用文件扩展名。\n",
    "    - 在文件中使用print语句。\n",
    "- unix 可执行脚本（#！）\n",
    "- unix env查找技巧\n",
    "## 点击文件图标\n",
    "- 由于执行会一闪而过，建议使用input() ,这样执行完了会弹出黑色的dos终端作为文件输入输出。\n",
    "- 即使使用了input技巧，点击文件图标仍有风险，因为一旦有错误，可能看不到错误信息。\n",
    "\n",
    "## 模块的导入和重载\n",
    "\n",
    "用简单的术语讲，每一个以扩展名py结尾的Python源代码文件都是一个模块。其他文件可以通过导入一个模块读取这个模块的内容。导入从本质上来讲，就是载入另一个文件，并能够读取那个文件的内容。一个模块的内容通过这样的属性能够被外部世界使用。\n",
    "\n",
    "\n",
    "这种基于模块的方式使模块变成了Python程序架构中的一个核心概念。更大的程序往往以多个模块文件的形式出现，并且是导入其他模块文件的工具。\n",
    "其中一个模块文件设计成主文件，或叫做顶层文件。\n",
    "\n",
    "\n",
    "导入是一个开销很大的操作，以至于每个文件、程序运行不能够重复多余一次。当你学习到第二十一章你就会明白，导入必须找到文件，将他编译成字节码，并运行代码。\n",
    "\n",
    "\n",
    "如果你真的想要Python在同一个会话中再次运行文件，需要调用importlib库中的可用的reload函数。"
   ]
  },
  {
   "cell_type": "code",
   "execution_count": null,
   "metadata": {},
   "outputs": [],
   "source": [
    "\n",
    "from imp import reload\n",
    "\n",
    "reload (test)"
   ]
  },
  {
   "cell_type": "markdown",
   "metadata": {},
   "source": [
    "这里import语句直接从一个模块中复制出一个名字。reload函数载入并运行了文件的最新版本代码，如果在另一个窗口中修改并保存了他，它将反应出修改变化。\n",
    "\n",
    "**模块的显要特征：属性**\n",
    "\n",
    "导入和重载提供了一种自然的程序启动选择，因为导入操作会在最后一步执行文件。从更宏观的角度来看，模块扮演了工具库的角色，这将在第五部分学到。从一般意义来讲，模块往往就是变量名的封装，被认作是命名空间。一个包中的变量名就是所谓的属性：也就是说，属性是绑定在特定对象上的变量名（就像一个模块）\n",
    "\n",
    "\n",
    "在典型的应用中，导入者得到了模块文件中在最顶层所定义的所有变量名。这些变量名通常被赋值给通过模块函数、类、变量以及其他被导出的工具。这些往往都会在其他文件中或程序中使用。从表面上来看，一个模块文件的变量名可以通过两个Python语句读取--import和from ，以及reload调用。\n",
    "\n",
    "为了讲清楚现在用文本编辑器创建了一个名为test.py的Python模块文件，其内容如下\n",
    "\n",
    "```\n",
    "list = ['Google', 'Runoob', 1997, 2000]\n",
    "\n",
    "print(\"原始列表 : \", list)\n",
    "del list[2]\n",
    "print(\"删除第三个元素 : \", list)\n",
    "\n",
    "```"
   ]
  },
  {
   "cell_type": "code",
   "execution_count": null,
   "metadata": {},
   "outputs": [],
   "source": [
    "import test\n",
    "print(test.list)\n",
    "##一般来讲，这里的点号代表了object.arrtibute的语法，可以从任何的object中取出其任意属性，并且这是Python代码中的一个常用操作。\n",
    "##在这里我们已经使用了它获取在模块test中的一个列表变量list，即test.list。\n",
    "\n",
    "## 作为替代方案，也可以通过from语句从模块中获取。、\n",
    "from test import list\n",
    "print(list)\n"
   ]
  },
  {
   "cell_type": "markdown",
   "metadata": {},
   "source": [
    "无论使用import 还是from 执行导入操作，模块文件test.py都会被执行，并且导入的组件在变量顶层得到变量名的读取权。这个简单的例子只有一个变量名，但是如果开始在模块中定义对象，例如，函数和类，这个概念将会很有用。这样一些一些对象就编程可重用的组件，可以通过变量名被一个或多个客户端模块读取。\n",
    "\n",
    "\n",
    "一旦你开始在一个模块中文件中编写多个变量名，内置的dir函数开始发挥作用了。你可以使用它获取模块内部的可用的变量名列表。\n",
    "\n",
    "\n",
    "dir函数可以返回模块的所有属性，其中一些变量是\"免费\"获取的：一些以双下划线开始 并结尾的变量名，这通常是有python预定义的内置变量名，对于解释器来说有特定的意义。哪些通过代码赋值而定义的变量在dir结果的最后显示。\n",
    "\n",
    "\n",
    "**模块和命名空间**\n",
    "\n",
    "由于某种原因，一旦人们知道通过import和reload运行文件，有些人就倾向于使用这个方法，而忽略了能够运行最新最新版本的代码的其他选择。这回让人变得困惑：你需要记住是何时导入的，才能知道能不能reload，你需要记住当调用reload时需要使用括号，并且要记住代码的最新版本运行时首先要reload。此外reload是不可传递的，重载一个模块的话只会重载这个模块，而不能够重载该模块导入的任何模块，因此必须reload多个文件。\n",
    "\n",
    "\n",
    "由于这些复杂的地方，从现在开始就要避免使用import和reload启动程序，这是一个 好主意。例如，IDLE提供了一个简单并更少错误运行文件的方法，并且能够运行代码的最新版本。系统的shell命令提供了类似的优点。如果使用这些技术的化，不需要使用reload。\n",
    "\n",
    "\n",
    "## 使用exec运行模块文件\n",
    "\n",
    "## IDLE用户界面\n",
    "\n",
    "## 其他的IDLE\n",
    "\n",
    "## 其他启动选项\n",
    "\n",
    "## 我应该选用哪种\n",
    "\n",
    "## 本章小结\n",
    "\n",
    "在本章我们学习了启动Python程序的一般方法：通过交互式地输入代码、通过系统命令行运行保存在文件中的代码、文件图标点击、模块导入、exec调用以及IDLE这样的IDE GUI。本章介绍了许多实际中的入门细节。本章的目标就是给你体用足够的信息，让你能够开工，完成我们将要开始的本书的下一部分的代码。那里，我们将以Python的核心数据类型开始。"
   ]
  }
 ],
 "metadata": {
  "celltoolbar": "Raw Cell Format",
  "kernelspec": {
   "display_name": "Python 3",
   "language": "python",
   "name": "python3"
  },
  "language_info": {
   "codemirror_mode": {
    "name": "ipython",
    "version": 3
   },
   "file_extension": ".py",
   "mimetype": "text/x-python",
   "name": "python",
   "nbconvert_exporter": "python",
   "pygments_lexer": "ipython3",
   "version": "3.7.3"
  },
  "toc": {
   "base_numbering": 1,
   "nav_menu": {},
   "number_sections": true,
   "sideBar": true,
   "skip_h1_title": false,
   "title_cell": "Table of Contents",
   "title_sidebar": "Contents",
   "toc_cell": false,
   "toc_position": {},
   "toc_section_display": true,
   "toc_window_display": false
  }
 },
 "nbformat": 4,
 "nbformat_minor": 2
}
