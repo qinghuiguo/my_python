{
 "cells": [
  {
   "cell_type": "markdown",
   "metadata": {
    "toc": true
   },
   "source": [
    "<h1>Table of Contents<span class=\"tocSkip\"></span></h1>\n",
    "<div class=\"toc\"><ul class=\"toc-item\"><li><span><a href=\"#为什么选择python？\" data-toc-modified-id=\"为什么选择python？-1\"><span class=\"toc-item-num\">1&nbsp;&nbsp;</span>为什么选择python？</a></span></li><li><span><a href=\"#pyhon是脚本语言吗？\" data-toc-modified-id=\"pyhon是脚本语言吗？-2\"><span class=\"toc-item-num\">2&nbsp;&nbsp;</span>pyhon是脚本语言吗？</a></span></li><li><span><a href=\"#Python的缺点是什么？\" data-toc-modified-id=\"Python的缺点是什么？-3\"><span class=\"toc-item-num\">3&nbsp;&nbsp;</span>Python的缺点是什么？</a></span></li><li><span><a href=\"#如今谁在使用Python？\" data-toc-modified-id=\"如今谁在使用Python？-4\"><span class=\"toc-item-num\">4&nbsp;&nbsp;</span>如今谁在使用Python？</a></span></li><li><span><a href=\"#使用Python可以做些什么？\" data-toc-modified-id=\"使用Python可以做些什么？-5\"><span class=\"toc-item-num\">5&nbsp;&nbsp;</span>使用Python可以做些什么？</a></span></li><li><span><a href=\"#如何获取Python支持？\" data-toc-modified-id=\"如何获取Python支持？-6\"><span class=\"toc-item-num\">6&nbsp;&nbsp;</span>如何获取Python支持？</a></span></li><li><span><a href=\"#Python有哪些技术上的优点。\" data-toc-modified-id=\"Python有哪些技术上的优点。-7\"><span class=\"toc-item-num\">7&nbsp;&nbsp;</span>Python有哪些技术上的优点。</a></span></li><li><span><a href=\"#Python和其他语言比较起来怎么样？\" data-toc-modified-id=\"Python和其他语言比较起来怎么样？-8\"><span class=\"toc-item-num\">8&nbsp;&nbsp;</span>Python和其他语言比较起来怎么样？</a></span></li><li><span><a href=\"#本章小结\" data-toc-modified-id=\"本章小结-9\"><span class=\"toc-item-num\">9&nbsp;&nbsp;</span>本章小结</a></span></li></ul></div>"
   ]
  },
  {
   "cell_type": "markdown",
   "metadata": {},
   "source": [
    "# 问答环节\n",
    "\n",
    "\n",
    "## 为什么选择python？\n",
    "\n",
    "\n",
    "- **1.编程质量**\n",
    ">在很大程度上Python更注重可读性、一致性和软件质量。从而与脚本世界中的其他工具区别开来。Python代码的设计致力于可读性，因此具备了比传统脚本语言更优秀的可重用性和可维护性。即使代码并非你亲手所写，Python的一致性也保证了其代码易于理解。此外，Python支持软件开发的高级重用机制。例如面向对象的程序设计（OOP ，object-oriented programing）\n",
    "\n",
    "- **2.开发者效率**\n",
    ">相对于C ，C++ 等编译，静态语言，Python编程者的效率提高了数倍。Python代码的大小往往只有C++或者java代码的1/3者~1/5。这意味着可以录入更少的代码、调试更少的代码并在开发完成之后维护更少的代码。并且Python程序可以立即运行，无需传统编译/静态语言所必须的编译及链接等步骤，这进一步提高了程序员的效率。\n",
    "\n",
    "- **3.程序可移植性**\n",
    "> 绝大多数的Python程序不做任何改变即可在所有主流计算机平台上运行.\n",
    "- **4.标准库支持**\n",
    "> Python内置了众多预编译并可移植的功能模块,这些功能模块叫做标准库.标准库支持一系列应用级的编程任务,涵盖了字符模式到网络脚本编程的匹配方面.此外Python可以通过自行开发的库或众多的第三方应用支持软件自行扩展.Python的第三方支持工具包括网站开发 数值计算 串口读写 游戏开发等各个方面.例如,Numpy是一个免费的如同Matlab一样强大的数值计算开发平台.\n",
    "- **5.组件集成**\n",
    "> Python脚本通过灵活的集成机制轻松的与应用程序的其他部分进行通信.这种集成是Python成为产品定制和扩展的工具.如今Python脚本可以调用C和C++的库,可以被C和C++调用,可以与java集成,可以和com .NET等框架通信,并且可以通过SOAP XML-RPC和CORBA等接口与网络交互,Python不仅仅是一个独立的工具.\n",
    "- **6.享受乐趣**\n",
    "> Python的易用性和强大的内置工具使编程成为一种乐趣而不是琐碎的重复劳动。尽管这是一个难以捉摸的优点，但这对开发效率的提升有很重要的帮助。\n",
    "\n",
    "以上因素中，对于绝大多数Python用户而言，前两项（质量和效率）也许是Python最具吸引力的两个优点。\n",
    "\n",
    "## pyhon是脚本语言吗？\n",
    "\n",
    "\n",
    "python是一种多用途的编程语言，时常扮演脚本语言的角色。一般来说，python可以定义为面向对象的脚本语言：这个定义把面向对象的支持和全面的面向脚本语言的角色融合在一起。事实上，人们往往以\"脚本\"而不是程序描述Python的代码文件。\n",
    "\n",
    "- **1.shell工具**\n",
    "> Python程序当让能够胜任这种角色，但这仅仅是Python常规应用范围的很小一部分。他不只是一种很好的shell脚本语言。\n",
    "- **2.控制语言**\n",
    "> Python的简洁使其从本质上能够成为一个灵活的控制工具。从技术上来讲，这基本上就是Python的常规角色；许多Python代码作为独立的脚本执行时无需调用或者了解其他的集成组件。然而，Python不只是一种控制语言。\n",
    "- **3.使用便捷**\n",
    "> 对于脚本语言最好的解释，也许就是应用于快速编程任务的一种简单编程语言。对于Python来说，它确实实至名归，因为Python和C++等类似的编译语言相比，大大提高了程序开发进度。其快速开发周期促进了探索、递增的编程模式，这些都是必须亲生体验只有才能体会到的。\n",
    "> 但是千万别被迷惑，误以为Python只能实现简单的任务。恰恰相反，Python的易用性和灵活性是编程任务变的简单。Python有着一些简单的特性，但是他允许程序按照需求以尽可能优雅的方式扩展。也正是基于这一点，他通常应用于快速作业任务和长期战略开发。\n",
    "\n",
    "所以说，Python是不是脚本语言呢？这取决于你问谁。一般意义上讲，“脚本语言”一次可能最适用于描述一种Python所支持的快速和灵活的开发模式，他不是特定的应用领域的概念。\n",
    "\n",
    "## Python的缺点是什么？\n",
    "Python的缺点是他的性能：他不像C和C++这类常规的编程语言运行的那么快。另一方面，他对于绝大多数应用已经足够快乐，并且典型的Python代码运行起来接近C，因为在Python的解释器中调用链接了C代码。如果速度要求很苛刻的话，应用的数值处理部分可以采用编译好的扩展以满足应用要求。\n",
    "\n",
    "\n",
    "## 如今谁在使用Python？\n",
    "\n",
    "许多方面都有Python的身影。如今贯穿所有使用Python的公司的唯一共同思路也许就是：Python在所有领域几乎无所不能。Python的通用性使其能应用于任何场合，而不是只能在一处应用。实际上，我们这样说也不为过：无论是短期策略任务（例如，测试或者系统管理），还是长期战略上的产品开发，Python已证明他是无所不能的。\n",
    "## 使用Python可以做些什么？\n",
    "- **1.系统编程**\n",
    "- **2.用户图形接口**\n",
    "- **3.Internet 脚本**\n",
    "- **4.组件集成**\n",
    "- **5.数据库编程**\n",
    "- **6.快速原型**\n",
    "- **7.数值计算和科学计算编程**\n",
    "- **8.游戏、编程、人工智能、XML、机器人等。**\n",
    "\n",
    "## 如何获取Python支持？\n",
    "作为流行的开源系统之一，Python拥有一个很大而且活跃的开发社区，它以令众多商业软件开发者认为不凡（如果没有完全震惊）的速度进行版本更新和开发改进。Python开发者使用一个源代码控制系统在线协同地工作，修改一个正式的PEP(Python Enhancement Proposal)协议并且必须经过Python的扩展回归测试系统。实际上，现在修改Python差不多和修改商业软件一样的，与早期的Python大不相同，那时候只要给Python创始人发一封Email就够了，但是在当前用户量巨大的情况下，前面的修改方法更好。\n",
    "一个分正式的组织PSF（Python Software Foundation，Python软件基金会），负责组织会议，并处理知识产权问题。世界各地举办了大量的Python会议并且近年来规模越来越大。主要会议有O'Reilly OSCON和PSF的PyCon，前者涉及多个开源项目，后者则是专门的Python会议。\n",
    "\n",
    "## Python有哪些技术上的优点。\n",
    "\n",
    "- **1.面向对象**\n",
    ">从根本上讲，Python是一种面向对象的语言。它的类模块支持多态、操作符重载和多重继承等高级概念，并且以Python简洁的语法和类型，OOP十分易于使用。事实上，即使你不懂这些术语，仍会发现学习Python比学习其他OOP语言要容易的多。\n",
    "\n",
    "> 除了作为一种强大的代码构建和重用手段以外，Python的OOP特性使得他成为面向对象系统语言如C++和java的理想脚本语言，例如通过适当黏贴代码，Python程序可以对C++、java和C#的类进行子类定制。\n",
    "\n",
    "> Python的标准实现是由可移植的ANSI C编写的，可以在目前的所有的主流平台上编译和运行。\n",
    "- **2.免费**\n",
    "- **3.可移植**\n",
    "- **4.功能强大**\n",
    "    - 1.动态类型\n",
    "    - 2.自动内存管理\n",
    "    - 3.大型程序支持\n",
    "    - 4.内置对象类型\n",
    "    - 5.内置工具\n",
    "    - 6.库工具\n",
    "    - 7.第三方工具\n",
    "    \n",
    "  除了这一系列的Python工具外，Python保持了相当简洁的语法和设计。结合着一切得到的就是一个具有脚本语言所有可能性的强大编程工具。\n",
    "\n",
    "- **5.可混合**\n",
    "- **6.简单易用**\n",
    "- **7.简单易学**\n",
    "\n",
    "## Python和其他语言比较起来怎么样？\n",
    "\n",
    "**简而言之吹牛的时刻到了**\n",
    "\n",
    "- 1.比Tcl强大。Python支持大规模编程，使其适宜于开发大型程序。\n",
    "- 2.有比Perl更简洁的语法和更简单的设计，这使得Python具有可读性、更易于维护，有助于减少程序bug。\n",
    "- 3.比java简单，更易使用。Python是一种脚本语言，java从C++这样的系统语言中继承了许多语法和复杂性。\n",
    "- 4.比C++简单、更易使用，但通常也不与C++竞争。因为Python作为脚本语言，常常扮演多种不同的角色。\n",
    "- 5.比Visual Basic 更强大也更具备跨平台特性。由于Python是开源的，也就意味着它不可能被某一个公司掌握。\n",
    "- 6.比PHP更易懂且用途更广.Python有时候可以用来构建Web站点,但是,他也广泛用于几乎每个计算机领域,从机器人到电影动画.\n",
    "- 7.比Ruby更成熟,更具可读性.与Ruby和Java不同的是,OOP对Python是可选的:这意味着Python不会强制用户或者项目选择OOP进行开发.\n",
    "- 8.具备smallTalk和Lisp等动态类型特性,但是对开发者及定制系统的终端用户来说更简单,也更接近传统编程语言的语法.\n",
    "- 9.\n",
    "\n",
    "\n",
    "\n"
   ]
  },
  {
   "cell_type": "code",
   "execution_count": 1,
   "metadata": {},
   "outputs": [
    {
     "name": "stdout",
     "output_type": "stream",
     "text": [
      "The Zen of Python, by Tim Peters\n",
      "\n",
      "Beautiful is better than ugly.\n",
      "Explicit is better than implicit.\n",
      "Simple is better than complex.\n",
      "Complex is better than complicated.\n",
      "Flat is better than nested.\n",
      "Sparse is better than dense.\n",
      "Readability counts.\n",
      "Special cases aren't special enough to break the rules.\n",
      "Although practicality beats purity.\n",
      "Errors should never pass silently.\n",
      "Unless explicitly silenced.\n",
      "In the face of ambiguity, refuse the temptation to guess.\n",
      "There should be one-- and preferably only one --obvious way to do it.\n",
      "Although that way may not be obvious at first unless you're Dutch.\n",
      "Now is better than never.\n",
      "Although never is often better than *right* now.\n",
      "If the implementation is hard to explain, it's a bad idea.\n",
      "If the implementation is easy to explain, it may be a good idea.\n",
      "Namespaces are one honking great idea -- let's do more of those!\n"
     ]
    }
   ],
   "source": [
    "import this"
   ]
  },
  {
   "cell_type": "markdown",
   "metadata": {},
   "source": [
    "这首诗反映了**Python**的设计哲学——**Python**是一种追求优雅，明确，简单的编程语言，但事实上，产生这首诗的代码并没有写的那么简单易懂："
   ]
  },
  {
   "cell_type": "code",
   "execution_count": null,
   "metadata": {},
   "outputs": [],
   "source": [
    "s = \"\"\"Gur Mra bs Clguba, ol Gvz Crgref\n",
    "\n",
    "Ornhgvshy vf orggre guna htyl.\n",
    "Rkcyvpvg vf orggre guna vzcyvpvg.\n",
    "Fvzcyr vf orggre guna pbzcyrk.\n",
    "Pbzcyrk vf orggre guna pbzcyvpngrq.\n",
    "Syng vf orggre guna arfgrq.\n",
    "Fcnefr vf orggre guna qrafr.\n",
    "Ernqnovyvgl pbhagf.\n",
    "Fcrpvny pnfrf nera'g fcrpvny rabhtu gb oernx gur ehyrf.\n",
    "Nygubhtu cenpgvpnyvgl orngf chevgl.\n",
    "Reebef fubhyq arire cnff fvyragyl.\n",
    "Hayrff rkcyvpvgyl fvyraprq.\n",
    "Va gur snpr bs nzovthvgl, ershfr gur grzcgngvba gb thrff.\n",
    "Gurer fubhyq or bar-- naq cersrenoyl bayl bar --boivbhf jnl gb qb vg.\n",
    "Nygubhtu gung jnl znl abg or boivbhf ng svefg hayrff lbh'er Qhgpu.\n",
    "Abj vf orggre guna arire.\n",
    "Nygubhtu arire vf bsgra orggre guna *evtug* abj.\n",
    "Vs gur vzcyrzragngvba vf uneq gb rkcynva, vg'f n onq vqrn.\n",
    "Vs gur vzcyrzragngvba vf rnfl gb rkcynva, vg znl or n tbbq vqrn.\n",
    "Anzrfcnprf ner bar ubaxvat terng vqrn -- yrg'f qb zber bs gubfr!\"\"\"\n",
    "\n",
    "d = {}\n",
    "for c in (65, 97):\n",
    "    for i in range(26):\n",
    "        d[chr(i+c)] = chr((i+13) % 26 + c)\n",
    "\n",
    "print \"\".join([d.get(c, c) for c in s])"
   ]
  },
  {
   "cell_type": "markdown",
   "metadata": {},
   "source": [
    "> Life is short. Use Python."
   ]
  },
  {
   "cell_type": "markdown",
   "metadata": {},
   "source": [
    "## 本章小结\n",
    "\n",
    "现在大家对Python有了一个基本的概念,本书作者的意愿是是教授和传播Python,而不是推销他.作者认为,判断一种语言好坏的方法,就是在实践中使用它,所以说本书会把注意力集中到语言的细节中.\n",
    "\n",
    "接下里的两章进行语言技术的介绍.我们将研究如何运行Python程序,窥视Python字节码执行的模式并介绍保存代码的模块文件的基本概念.目的就是让你能够运行本书其它部分的练习和例子.直到第四章我们才会开始真正的编程,但在此之前,请确保你已经掌握了继续深入了解的细节.\n"
   ]
  }
 ],
 "metadata": {
  "kernelspec": {
   "display_name": "Python 3",
   "language": "python",
   "name": "python3"
  },
  "language_info": {
   "codemirror_mode": {
    "name": "ipython",
    "version": 3
   },
   "file_extension": ".py",
   "mimetype": "text/x-python",
   "name": "python",
   "nbconvert_exporter": "python",
   "pygments_lexer": "ipython3",
   "version": "3.7.3"
  },
  "toc": {
   "base_numbering": 1,
   "nav_menu": {},
   "number_sections": true,
   "sideBar": true,
   "skip_h1_title": false,
   "title_cell": "Table of Contents",
   "title_sidebar": "Contents",
   "toc_cell": true,
   "toc_position": {
    "height": "calc(100% - 180px)",
    "left": "10px",
    "top": "150px",
    "width": "165px"
   },
   "toc_section_display": true,
   "toc_window_display": false
  }
 },
 "nbformat": 4,
 "nbformat_minor": 2
}
