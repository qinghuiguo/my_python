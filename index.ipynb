{
 "cells": [
  {
   "cell_type": "markdown",
   "metadata": {},
   "source": [
    "#  Python 学习手册"
   ]
  },
  {
   "cell_type": "markdown",
   "metadata": {},
   "source": [
    "> 版本：0.0.1<br>\n",
    "> 作者：Qinghui.Guo<br>\n",
    "> 邮件：gqh2789@163.com<br>\n",
    "\n",
    "`Github` 加载 `.ipynb` 的速度较慢，建议在 [Nbviewer](http://nbviewer.ipython.org/github/gu/notes-python/blob/master/index.ipynb) 中查看该项目"
   ]
  },
  {
   "cell_type": "markdown",
   "metadata": {},
   "source": [
    "由于涉及著作权的问题，对基于本笔记所做的修订、改编，目前不做任何正式授权。\n",
    "\n",
    "笔记内容仅供学习参考，未经允许，请勿用于任何商业用途。"
   ]
  }
 ],
 "metadata": {
  "kernelspec": {
   "display_name": "Python 3",
   "language": "python",
   "name": "python3"
  },
  "language_info": {
   "codemirror_mode": {
    "name": "ipython",
    "version": 3
   },
   "file_extension": ".py",
   "mimetype": "text/x-python",
   "name": "python",
   "nbconvert_exporter": "python",
   "pygments_lexer": "ipython3",
   "version": "3.7.0"
  }
 },
 "nbformat": 4,
 "nbformat_minor": 2
}
