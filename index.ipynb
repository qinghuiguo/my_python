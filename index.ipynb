{
 "cells": [
  {
   "cell_type": "markdown",
   "metadata": {},
   "source": [
    "#  Python 学习手册"
   ]
  },
  {
   "cell_type": "markdown",
   "metadata": {},
   "source": [
    "> 版本：0.0.1<br>\n",
    "> 作者：Qinghui.Guo<br>\n",
    "> 邮件：gqh2789@163.com<br>\n",
    "\n",
    "由于涉及著作权的问题，对基于本笔记所做的修订、改编，目前不做任何正式授权。\n",
    "\n",
    "笔记内容仅供学习参考，未经允许，请勿用于任何商业用途。\n",
    "\n",
    "`Github` 加载 `.ipynb` 的速度较慢，建议在 [Nbviewer](http://nbviewer.ipython.org/github/qinghuiguo/my_python/blob/master/index.ipynb) 中查看该项目\n",
    "\n",
    "基于本笔记的实体书：《Python学习手册-第四版》已经出版。\n",
    "\n",
    "\n",
    "## 简介\n",
    "\n",
    "大部分内容来自网络。\n",
    "\n",
    "默认安装了 `Python 2.7`，以及相关的第三方包 `ipython`， `numpy`， `scipy`，`pandas`。\n",
    "\n",
    "> life is short. use python.\n",
    "\n",
    "推荐使用 [Anaconda](http://www.continuum.io/downloads)，这个IDE集成了大部分常用的包。\n",
    "\n",
    "笔记内容使用 `jupyter notebook` 来展示。\n",
    "\n",
    "安装好 `Python` 和相应的包之后，可以在命令行下输入：\n",
    "\n",
    "```\n",
    "$ jupyter notebook\n",
    "```\n",
    "来进入 `jupyter notebook`。\n",
    "\n",
    "----\n",
    "\n",
    "## 基本环境配置\n",
    "\n",
    "- 安装 [Anaconda](http://www.continuum.io/downloads) 或者 [Miniconda](http://conda.pydata.org/miniconda.html)\n",
    "\n",
    "- 更新环境\n",
    "``` \n",
    "conda update conda\n",
    "conda update anaconda\n",
    "```\n",
    "\n",
    "\n",
    "\n",
    "\n",
    "## 目录\n",
    "\n",
    "可以在 Notebook 中打开 `generate static files.ipynb`，或者命令行中运行代码 `generate_static_files.py` 来生成静态的 HTML 文件。\n",
    "\n",
    "\n"
   ]
  },
  {
   "cell_type": "code",
   "execution_count": null,
   "metadata": {},
   "outputs": [],
   "source": []
  }
 ],
 "metadata": {
  "kernelspec": {
   "display_name": "Python 3",
   "language": "python",
   "name": "python3"
  },
  "language_info": {
   "codemirror_mode": {
    "name": "ipython",
    "version": 3
   },
   "file_extension": ".py",
   "mimetype": "text/x-python",
   "name": "python",
   "nbconvert_exporter": "python",
   "pygments_lexer": "ipython3",
   "version": "3.7.0"
  }
 },
 "nbformat": 4,
 "nbformat_minor": 2
}
